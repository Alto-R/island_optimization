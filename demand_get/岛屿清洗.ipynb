{
 "cells": [
  {
   "cell_type": "code",
   "execution_count": 9,
   "id": "a17fcc5e",
   "metadata": {},
   "outputs": [],
   "source": [
    "import pandas as pd\n"
   ]
  },
  {
   "cell_type": "code",
   "execution_count": 10,
   "id": "a57ac535",
   "metadata": {},
   "outputs": [
    {
     "name": "stdout",
     "output_type": "stream",
     "text": [
      "成功从 progress.txt 读取 1898 个有效ID。\n",
      "成功读取 cluster_island_full.csv，共 267 行数据。\n",
      "筛选完成，找到 255 行匹配的数据。\n",
      "结果已成功保存到 filtered_island_255.csv 文件中。\n"
     ]
    }
   ],
   "source": [
    "# 包含有效ID的文本文件名\n",
    "progress_file = 'progress.txt'\n",
    "\n",
    "# 包含岛屿数据的CSV文件名\n",
    "csv_file = 'cluster_island_full.csv'\n",
    "\n",
    "# CSV文件中包含岛屿ID的列的名称 (!!请务必修改为你的实际列名!!)\n",
    "id_column_name = 'ID'\n",
    "\n",
    "# 处理后输出的新CSV文件名\n",
    "output_file = 'filtered_island_255.csv'\n",
    "# -----------------------------------------\n",
    "\n",
    "\n",
    "try:\n",
    "    # 1. 读取 progress.txt 文件中的ID\n",
    "    #    - .strip() 去除每行首尾的空格或换行符\n",
    "    #    - .split('.')[0] 以小数点分割，并取第一部分 (例如 '72234.0' -> '72234')\n",
    "    #    - 使用 set 存储ID，便于快速查找\n",
    "    with open(progress_file, 'r') as f:\n",
    "        valid_ids_set = {line.strip().split('.')[0] for line in f}\n",
    "    print(f\"成功从 {progress_file} 读取 {len(valid_ids_set)} 个有效ID。\")\n",
    "\n",
    "    # 2. 读取 island.csv 文件\n",
    "    #    - 使用 dtype={id_column_name: str} 强制将ID列作为字符串读取\n",
    "    #    - 这是关键一步，可以避免因数据类型不同导致的匹配失败\n",
    "    df = pd.read_csv(csv_file, dtype={id_column_name: str})\n",
    "    print(f\"成功读取 {csv_file}，共 {len(df)} 行数据。\")\n",
    "\n",
    "    # 3. 筛选数据\n",
    "    #    - .str.split('.').str[0] 对CSV中的ID也进行和txt中ID同样的处理\n",
    "    #    - .isin(valid_ids_set) 判断处理后的ID是否存在于有效ID集合中\n",
    "    filtered_df = df[df[id_column_name].str.split('.').str[0].isin(valid_ids_set)]\n",
    "    print(f\"筛选完成，找到 {len(filtered_df)} 行匹配的数据。\")\n",
    "\n",
    "\n",
    "    # 4. 将筛选结果保存到新文件\n",
    "    filtered_df.to_csv(output_file, index=False)\n",
    "    print(f\"结果已成功保存到 {output_file} 文件中。\")\n",
    "\n",
    "except FileNotFoundError as e:\n",
    "    print(f\"错误：找不到文件 {e.filename}。请检查文件名是否正确，以及文件是否和脚本在同一目录下。\")\n",
    "except KeyError:\n",
    "    print(f\"错误：在CSV文件中找不到名为 '{id_column_name}' 的列。\")\n",
    "    print(f\"请打开 {csv_file} 文件，确认包含岛屿ID的列名，并修改脚本中的 'id_column_name' 变量。\")\n",
    "except Exception as e:\n",
    "    print(f\"发生未知错误: {e}\")"
   ]
  }
 ],
 "metadata": {
  "kernelspec": {
   "display_name": "island",
   "language": "python",
   "name": "python3"
  },
  "language_info": {
   "codemirror_mode": {
    "name": "ipython",
    "version": 3
   },
   "file_extension": ".py",
   "mimetype": "text/x-python",
   "name": "python",
   "nbconvert_exporter": "python",
   "pygments_lexer": "ipython3",
   "version": "3.11.13"
  }
 },
 "nbformat": 4,
 "nbformat_minor": 5
}
