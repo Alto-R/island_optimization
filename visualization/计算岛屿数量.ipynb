{
 "cells": [
  {
   "cell_type": "code",
   "execution_count": null,
   "id": "cccfb7c2",
   "metadata": {},
   "outputs": [
    {
     "name": "stdout",
     "output_type": "stream",
     "text": [
      "          ID        Long        Lat           Country                 Island  \\\n",
      "0        988  -68.960532 -55.246549             Chile             Isla Hoste   \n",
      "1       1028  -67.644515 -55.084701             Chile          Isla Navarino   \n",
      "2       1152  -64.315773 -54.798325         Argentina    Isla de los Estados   \n",
      "3       2147  -70.595284 -53.964415             Chile            Isla Dawson   \n",
      "4       3007  -68.677673 -54.054777  Argentina; Chile  Isla Tierra del Fuego   \n",
      "...      ...         ...        ...               ...                    ...   \n",
      "1894   85149 -138.829615  -9.985292  French Polynesia               Mohotani   \n",
      "1895   85150   -5.708494 -15.959406      Saint Helena    Saint Helena Island   \n",
      "1896  100046   -3.110323  59.013431    United Kingdom             Inner Holm   \n",
      "1897  100049   -2.912430  58.853893    United Kingdom                 Burray   \n",
      "1898  100050   -2.953947  58.791598    United Kingdom        South Ronaldsay   \n",
      "\n",
      "         pop                       geometry    id  cluster   Region  \n",
      "0        129  POINT (-68.960532 -55.246549)     0       -1  Unknown  \n",
      "1       1682  POINT (-67.644515 -55.084701)     1       -1  Unknown  \n",
      "2        240  POINT (-64.315773 -54.798325)     2       -1  Unknown  \n",
      "3        129  POINT (-70.595284 -53.964415)     3       -1  Unknown  \n",
      "4     167448  POINT (-68.677673 -54.054777)     4       -1  Unknown  \n",
      "...      ...                            ...   ...      ...      ...  \n",
      "1894     116  POINT (-138.829615 -9.985292)  2010        5  Unknown  \n",
      "1895    6039   POINT (-5.708494 -15.959406)  2011       -1  Unknown  \n",
      "1896   11469    POINT (-3.110323 59.013431)  2012       47   Europe  \n",
      "1897    2038     POINT (-2.91243 58.853893)  2013       47   Europe  \n",
      "1898    2038    POINT (-2.953947 58.791598)  2014       47   Europe  \n",
      "\n",
      "[1722 rows x 10 columns]\n"
     ]
    }
   ],
   "source": [
    "import pandas as pd\n",
    "\n",
    "# 读取两个CSV文件到pandas DataFrame中\n",
    "# 确保文件路径是正确的\n",
    "df_1898 = pd.read_csv('filtered_island_1898.csv')\n",
    "df_179 = pd.read_csv('filtered_island_179.csv')\n",
    "\n",
    "# 使用merge函数进行外连接，并添加一个指示器列\n",
    "# indicator=True会添加一个名为'_merge'的列，标明每一行的来源\n",
    "merged_df = df_1898.merge(df_179, how='left', indicator=True)\n",
    "\n",
    "# 筛选出只存在于左边DataFrame（即df_1898）中的行\n",
    "# 这些行的'_merge'列的值会是'left_only'\n",
    "df_diff = merged_df[merged_df['_merge'] == 'left_only']\n",
    "\n",
    "# （可选）删除merge函数添加的'_merge'列\n",
    "df_diff = df_diff.drop(columns=['_merge'])\n",
    "\n",
    "# 显示结果DataFrame的前几行\n",
    "print(df_diff)"
   ]
  },
  {
   "cell_type": "code",
   "execution_count": 3,
   "id": "df954ddf",
   "metadata": {},
   "outputs": [],
   "source": [
    "# 将结果保存到新的CSV文件中\n",
    "df_diff.to_csv('islands_tobe_calculated.csv', index=False)"
   ]
  }
 ],
 "metadata": {
  "kernelspec": {
   "display_name": "island",
   "language": "python",
   "name": "python3"
  },
  "language_info": {
   "codemirror_mode": {
    "name": "ipython",
    "version": 3
   },
   "file_extension": ".py",
   "mimetype": "text/x-python",
   "name": "python",
   "nbconvert_exporter": "python",
   "pygments_lexer": "ipython3",
   "version": "3.11.13"
  }
 },
 "nbformat": 4,
 "nbformat_minor": 5
}
